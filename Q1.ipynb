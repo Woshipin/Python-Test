{
 "cells": [
  {
   "cell_type": "code",
   "execution_count": 1,
   "id": "35d374cc-a923-45b9-b2a2-3ad5f556c98a",
   "metadata": {},
   "outputs": [
    {
     "name": "stdout",
     "output_type": "stream",
     "text": [
      "\n",
      "    -----\n",
      "    |   |\n",
      "    |\n",
      "    |\n",
      "    |\n",
      "    |\n",
      "    \n",
      "Word to guess: _ _ _ _ _ _ _ _ _\n",
      "Incorrect guesses remaining: 6\n",
      "Guessed letters: \n",
      "\n"
     ]
    },
    {
     "name": "stdin",
     "output_type": "stream",
     "text": [
      "Guess a letter:  f\n"
     ]
    },
    {
     "name": "stdout",
     "output_type": "stream",
     "text": [
      "Incorrect guess!\n",
      "\n",
      "\n",
      "    -----\n",
      "    |   |\n",
      "    |   O\n",
      "    |\n",
      "    |\n",
      "    |\n",
      "    \n",
      "Word to guess: _ _ _ _ _ _ _ _ _\n",
      "Incorrect guesses remaining: 5\n",
      "Guessed letters: F\n",
      "\n"
     ]
    },
    {
     "name": "stdin",
     "output_type": "stream",
     "text": [
      "Guess a letter:  d\n"
     ]
    },
    {
     "name": "stdout",
     "output_type": "stream",
     "text": [
      "Good guess!\n",
      "\n",
      "\n",
      "    -----\n",
      "    |   |\n",
      "    |   O\n",
      "    |\n",
      "    |\n",
      "    |\n",
      "    \n",
      "Word to guess: D _ _ _ _ _ _ _ _\n",
      "Incorrect guesses remaining: 5\n",
      "Guessed letters: F, D\n",
      "\n"
     ]
    },
    {
     "name": "stdin",
     "output_type": "stream",
     "text": [
      "Guess a letter:  p\n"
     ]
    },
    {
     "name": "stdout",
     "output_type": "stream",
     "text": [
      "Good guess!\n",
      "\n",
      "\n",
      "    -----\n",
      "    |   |\n",
      "    |   O\n",
      "    |\n",
      "    |\n",
      "    |\n",
      "    \n",
      "Word to guess: D _ _ _ _ _ P _ _\n",
      "Incorrect guesses remaining: 5\n",
      "Guessed letters: F, D, P\n",
      "\n"
     ]
    },
    {
     "name": "stdin",
     "output_type": "stream",
     "text": [
      "Guess a letter:  k\n"
     ]
    },
    {
     "name": "stdout",
     "output_type": "stream",
     "text": [
      "Incorrect guess!\n",
      "\n",
      "\n",
      "    -----\n",
      "    |   |\n",
      "    |   O\n",
      "    |   |\n",
      "    |\n",
      "    |\n",
      "    \n",
      "Word to guess: D _ _ _ _ _ P _ _\n",
      "Incorrect guesses remaining: 4\n",
      "Guessed letters: F, D, P, K\n",
      "\n"
     ]
    },
    {
     "name": "stdin",
     "output_type": "stream",
     "text": [
      "Guess a letter:  l\n"
     ]
    },
    {
     "name": "stdout",
     "output_type": "stream",
     "text": [
      "Good guess!\n",
      "\n",
      "\n",
      "    -----\n",
      "    |   |\n",
      "    |   O\n",
      "    |   |\n",
      "    |\n",
      "    |\n",
      "    \n",
      "Word to guess: D _ _ _ L _ P _ _\n",
      "Incorrect guesses remaining: 4\n",
      "Guessed letters: F, D, P, K, L\n",
      "\n"
     ]
    },
    {
     "name": "stdin",
     "output_type": "stream",
     "text": [
      "Guess a letter:  e\n"
     ]
    },
    {
     "name": "stdout",
     "output_type": "stream",
     "text": [
      "Good guess!\n",
      "\n",
      "\n",
      "    -----\n",
      "    |   |\n",
      "    |   O\n",
      "    |   |\n",
      "    |\n",
      "    |\n",
      "    \n",
      "Word to guess: D E _ E L _ P E _\n",
      "Incorrect guesses remaining: 4\n",
      "Guessed letters: F, D, P, K, L, E\n",
      "\n"
     ]
    },
    {
     "name": "stdin",
     "output_type": "stream",
     "text": [
      "Guess a letter:  c\n"
     ]
    },
    {
     "name": "stdout",
     "output_type": "stream",
     "text": [
      "Incorrect guess!\n",
      "\n",
      "\n",
      "    -----\n",
      "    |   |\n",
      "    |   O\n",
      "    |  /|\n",
      "    |\n",
      "    |\n",
      "    \n",
      "Word to guess: D E _ E L _ P E _\n",
      "Incorrect guesses remaining: 3\n",
      "Guessed letters: F, D, P, K, L, E, C\n",
      "\n"
     ]
    },
    {
     "name": "stdin",
     "output_type": "stream",
     "text": [
      "Guess a letter:  o\n"
     ]
    },
    {
     "name": "stdout",
     "output_type": "stream",
     "text": [
      "Good guess!\n",
      "\n",
      "\n",
      "    -----\n",
      "    |   |\n",
      "    |   O\n",
      "    |  /|\n",
      "    |\n",
      "    |\n",
      "    \n",
      "Word to guess: D E _ E L O P E _\n",
      "Incorrect guesses remaining: 3\n",
      "Guessed letters: F, D, P, K, L, E, C, O\n",
      "\n"
     ]
    },
    {
     "name": "stdin",
     "output_type": "stream",
     "text": [
      "Guess a letter:  m\n"
     ]
    },
    {
     "name": "stdout",
     "output_type": "stream",
     "text": [
      "Incorrect guess!\n",
      "\n",
      "\n",
      "    -----\n",
      "    |   |\n",
      "    |   O\n",
      "    |  /|\\\n",
      "    |\n",
      "    |\n",
      "    \n",
      "Word to guess: D E _ E L O P E _\n",
      "Incorrect guesses remaining: 2\n",
      "Guessed letters: F, D, P, K, L, E, C, O, M\n",
      "\n"
     ]
    },
    {
     "name": "stdin",
     "output_type": "stream",
     "text": [
      "Guess a letter:  a\n"
     ]
    },
    {
     "name": "stdout",
     "output_type": "stream",
     "text": [
      "Incorrect guess!\n",
      "\n",
      "\n",
      "    -----\n",
      "    |   |\n",
      "    |   O\n",
      "    |  /|\\\n",
      "    |  /\n",
      "    |\n",
      "    \n",
      "Word to guess: D E _ E L O P E _\n",
      "Incorrect guesses remaining: 1\n",
      "Guessed letters: F, D, P, K, L, E, C, O, M, A\n",
      "\n"
     ]
    },
    {
     "name": "stdin",
     "output_type": "stream",
     "text": [
      "Guess a letter:  x\n"
     ]
    },
    {
     "name": "stdout",
     "output_type": "stream",
     "text": [
      "Incorrect guess!\n",
      "\n",
      "\n",
      "    -----\n",
      "    |   |\n",
      "    |   O\n",
      "    |  /|\\\n",
      "    |  / \\\n",
      "    |\n",
      "    \n",
      "Word to guess: D E _ E L O P E _\n",
      "Incorrect guesses remaining: 0\n",
      "Guessed letters: F, D, P, K, L, E, C, O, M, A, X\n",
      "\n",
      "Sorry, you've run out of guesses. The word was 'DEVELOPER'.\n"
     ]
    }
   ],
   "source": [
    "import random\n",
    "\n",
    "# List of words for the game\n",
    "words = [\"PROGRAMMING\", \"DEVELOPER\", \"SOFTWARE\", \"DATABASE\", \"ENGINEERING\", \"COMPUTER\"]\n",
    "\n",
    "# Randomly select a word from the list\n",
    "word_to_guess = random.choice(words)\n",
    "\n",
    "# Initialize the hidden word with underscores\n",
    "hidden_word = [\"_\" for _ in word_to_guess]\n",
    "\n",
    "# Set the number of allowed incorrect guesses\n",
    "max_incorrect_guesses = 6\n",
    "incorrect_guesses = 0\n",
    "\n",
    "# List to keep track of guessed letters\n",
    "guessed_letters = []\n",
    "\n",
    "# Hangman visuals for each stage\n",
    "hangman_visuals = [\n",
    "    \"\"\"\n",
    "    -----\n",
    "    |   |\n",
    "    |\n",
    "    |\n",
    "    |\n",
    "    |\n",
    "    \"\"\",\n",
    "    \"\"\"\n",
    "    -----\n",
    "    |   |\n",
    "    |   O\n",
    "    |\n",
    "    |\n",
    "    |\n",
    "    \"\"\",\n",
    "    \"\"\"\n",
    "    -----\n",
    "    |   |\n",
    "    |   O\n",
    "    |   |\n",
    "    |\n",
    "    |\n",
    "    \"\"\",\n",
    "    \"\"\"\n",
    "    -----\n",
    "    |   |\n",
    "    |   O\n",
    "    |  /|\n",
    "    |\n",
    "    |\n",
    "    \"\"\",\n",
    "    \"\"\"\n",
    "    -----\n",
    "    |   |\n",
    "    |   O\n",
    "    |  /|\\\\\n",
    "    |\n",
    "    |\n",
    "    \"\"\",\n",
    "    \"\"\"\n",
    "    -----\n",
    "    |   |\n",
    "    |   O\n",
    "    |  /|\\\\\n",
    "    |  /\n",
    "    |\n",
    "    \"\"\",\n",
    "    \"\"\"\n",
    "    -----\n",
    "    |   |\n",
    "    |   O\n",
    "    |  /|\\\\\n",
    "    |  / \\\\\n",
    "    |\n",
    "    \"\"\"\n",
    "]\n",
    "\n",
    "# Function to display the current state of the game\n",
    "def display_game_state():\n",
    "    print(hangman_visuals[incorrect_guesses])\n",
    "    print(\"Word to guess: \" + \" \".join(hidden_word))\n",
    "    print(f\"Incorrect guesses remaining: {max_incorrect_guesses - incorrect_guesses}\")\n",
    "    print(f\"Guessed letters: {', '.join(guessed_letters)}\\n\")\n",
    "\n",
    "# Game loop\n",
    "while incorrect_guesses < max_incorrect_guesses and \"_\" in hidden_word:\n",
    "    display_game_state()\n",
    "    \n",
    "    # Prompt the user to guess a letter\n",
    "    guess = input(\"Guess a letter: \").upper()\n",
    "    \n",
    "    # Input validation\n",
    "    if not guess.isalpha() or len(guess) != 1:\n",
    "        print(\"Invalid input. Please enter a single letter.\\n\")\n",
    "        continue\n",
    "    \n",
    "    # Check if the letter has already been guessed\n",
    "    if guess in guessed_letters:\n",
    "        print(\"You already guessed that letter. Try again.\\n\")\n",
    "        continue\n",
    "    guessed_letters.append(guess)\n",
    "    \n",
    "    # Check if the guessed letter is in the word\n",
    "    if guess in word_to_guess:\n",
    "        # Update the hidden word with the guessed letter\n",
    "        for index, letter in enumerate(word_to_guess):\n",
    "            if letter == guess:\n",
    "                hidden_word[index] = guess\n",
    "        print(\"Good guess!\\n\")\n",
    "    else:\n",
    "        # Increment the number of incorrect guesses\n",
    "        incorrect_guesses += 1\n",
    "        print(\"Incorrect guess!\\n\")\n",
    "\n",
    "# Final game state\n",
    "display_game_state()\n",
    "\n",
    "# Check if the player has won or lost\n",
    "if \"_\" not in hidden_word:\n",
    "    print(\"Congratulations! You've guessed the word correctly!\")\n",
    "else:\n",
    "    print(f\"Sorry, you've run out of guesses. The word was '{word_to_guess}'.\")\n"
   ]
  },
  {
   "cell_type": "code",
   "execution_count": null,
   "id": "cf2dcd61-3c2a-4909-9cae-bd16b7419f79",
   "metadata": {},
   "outputs": [],
   "source": []
  }
 ],
 "metadata": {
  "kernelspec": {
   "display_name": "Python 3 (ipykernel)",
   "language": "python",
   "name": "python3"
  },
  "language_info": {
   "codemirror_mode": {
    "name": "ipython",
    "version": 3
   },
   "file_extension": ".py",
   "mimetype": "text/x-python",
   "name": "python",
   "nbconvert_exporter": "python",
   "pygments_lexer": "ipython3",
   "version": "3.11.7"
  }
 },
 "nbformat": 4,
 "nbformat_minor": 5
}
